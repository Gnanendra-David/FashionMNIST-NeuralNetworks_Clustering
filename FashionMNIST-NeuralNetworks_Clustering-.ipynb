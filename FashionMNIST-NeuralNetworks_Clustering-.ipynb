{
  "nbformat": 4,
  "nbformat_minor": 0,
  "metadata": {
    "colab": {
      "name": "Untitled1.ipynb",
      "provenance": [],
      "collapsed_sections": []
    },
    "kernelspec": {
      "name": "python3",
      "display_name": "Python 3"
    },
    "language_info": {
      "name": "python"
    }
  },
  "cells": [
    {
      "cell_type": "code",
      "metadata": {
        "colab": {
          "base_uri": "https://localhost:8080/"
        },
        "id": "o72qhWTqTHB8",
        "outputId": "172b857e-799e-407a-a684-fdaebe151448"
      },
      "source": [
        "import numpy as np\n",
        "from keras.datasets import fashion_mnist\n",
        "from keras.models import Sequential\n",
        "import tensorflow as tf\n",
        "from numpy import loadtxt\n",
        "\n",
        "#importing the fashion MNISt data directly from library \n",
        "\n",
        "tf.keras.datasets.fashion_mnist.load_data()\n",
        "final_data=fashion_mnist.load_data()\n",
        "final_data\n",
        "\n",
        "\n",
        "#directly dividing the data into test and train set from library data set\n",
        "  \n",
        "(a_train, b_train), (a_test, b_test) = tf.keras.datasets.fashion_mnist.load_data()\n",
        "a_train.shape\n",
        "b_train.shape\n",
        "\n",
        "a_test\n",
        "a_test.shape\n",
        "\n",
        "b_test\n",
        "\n",
        "a_train.shape\n",
        "\n",
        "\n",
        "a_train = a_train.reshape(-1, 28*28)\n",
        "a_train\n",
        "\n",
        "\n",
        "a_test = a_test.reshape(-1, 28*28)\n",
        "a_test\n",
        "\n",
        "#normalizing\n",
        "from sklearn.preprocessing import MinMaxScaler\n",
        "scaler = MinMaxScaler()\n",
        "scaler.fit_transform(a_train).reshape(-1,1)\n",
        "scaler.transform(a_test)\n",
        "\n",
        "\n",
        "\n",
        "from keras.layers import Dense\n",
        "model = tf.keras.Sequential()\n",
        "model.add(tf.keras.layers.Dense(units=500, activation='relu', input_shape=(784, )))\n",
        "model.add(tf.keras.layers.Dense(units=200, activation='relu'))\n",
        "model.add(tf.keras.layers.Dense(units=50, activation='relu'))\n",
        "model.add(tf.keras.layers.Dense(units=10, activation='softmax'))\n",
        "\n",
        "model.compile(optimizer='adam', loss='sparse_categorical_crossentropy', metrics=['sparse_categorical_accuracy'])\n",
        "\n",
        "model.fit(a_train, b_train, epochs=20)\n",
        "\n",
        "F1_score = model.evaluate(a_test, b_test)\n",
        "\n",
        "print(\"F1_score: {}\".format(F1_score))\n",
        "\n",
        "\n",
        "\n"
      ],
      "execution_count": null,
      "outputs": [
        {
          "output_type": "stream",
          "name": "stdout",
          "text": [
            "Epoch 1/20\n",
            "1875/1875 [==============================] - 12s 6ms/step - loss: 1.8182 - sparse_categorical_accuracy: 0.4499\n",
            "Epoch 2/20\n",
            "1875/1875 [==============================] - 12s 6ms/step - loss: 0.9704 - sparse_categorical_accuracy: 0.6267\n",
            "Epoch 3/20\n",
            "1875/1875 [==============================] - 12s 6ms/step - loss: 0.6250 - sparse_categorical_accuracy: 0.7670\n",
            "Epoch 4/20\n",
            "1875/1875 [==============================] - 12s 6ms/step - loss: 0.5319 - sparse_categorical_accuracy: 0.8038\n",
            "Epoch 5/20\n",
            "1875/1875 [==============================] - 12s 6ms/step - loss: 0.4552 - sparse_categorical_accuracy: 0.8377\n",
            "Epoch 6/20\n",
            "1875/1875 [==============================] - 12s 6ms/step - loss: 0.4061 - sparse_categorical_accuracy: 0.8569\n",
            "Epoch 7/20\n",
            "1875/1875 [==============================] - 12s 6ms/step - loss: 0.3751 - sparse_categorical_accuracy: 0.8643\n",
            "Epoch 8/20\n",
            "1875/1875 [==============================] - 12s 6ms/step - loss: 0.3564 - sparse_categorical_accuracy: 0.8718\n",
            "Epoch 9/20\n",
            "1875/1875 [==============================] - 12s 6ms/step - loss: 0.3462 - sparse_categorical_accuracy: 0.8751\n",
            "Epoch 10/20\n",
            "1875/1875 [==============================] - 12s 6ms/step - loss: 0.3333 - sparse_categorical_accuracy: 0.8799\n",
            "Epoch 11/20\n",
            "1875/1875 [==============================] - 12s 6ms/step - loss: 0.3274 - sparse_categorical_accuracy: 0.8832\n",
            "Epoch 12/20\n",
            "1875/1875 [==============================] - 12s 6ms/step - loss: 0.3233 - sparse_categorical_accuracy: 0.8832\n",
            "Epoch 13/20\n",
            "1875/1875 [==============================] - 12s 6ms/step - loss: 0.3112 - sparse_categorical_accuracy: 0.8876\n",
            "Epoch 14/20\n",
            "1875/1875 [==============================] - 12s 6ms/step - loss: 0.3012 - sparse_categorical_accuracy: 0.8907\n",
            "Epoch 15/20\n",
            "1875/1875 [==============================] - 12s 6ms/step - loss: 0.3002 - sparse_categorical_accuracy: 0.8919\n",
            "Epoch 16/20\n",
            "1875/1875 [==============================] - 12s 6ms/step - loss: 0.2931 - sparse_categorical_accuracy: 0.8946\n",
            "Epoch 17/20\n",
            "1875/1875 [==============================] - 12s 6ms/step - loss: 0.2910 - sparse_categorical_accuracy: 0.8943\n",
            "Epoch 18/20\n",
            "1875/1875 [==============================] - 12s 6ms/step - loss: 0.2858 - sparse_categorical_accuracy: 0.8972\n",
            "Epoch 19/20\n",
            "1875/1875 [==============================] - 12s 6ms/step - loss: 0.2827 - sparse_categorical_accuracy: 0.8982\n",
            "Epoch 20/20\n",
            "1875/1875 [==============================] - 12s 6ms/step - loss: 0.2739 - sparse_categorical_accuracy: 0.9016\n",
            "313/313 [==============================] - 1s 3ms/step - loss: 0.4335 - sparse_categorical_accuracy: 0.8611\n",
            "F1_score: [0.4335438013076782, 0.8611000180244446]\n"
          ]
        }
      ]
    },
    {
      "cell_type": "code",
      "metadata": {
        "colab": {
          "base_uri": "https://localhost:8080/"
        },
        "id": "O0CJkLshVIoe",
        "outputId": "2430c630-0b07-4486-faa0-ae51be9fe9f7"
      },
      "source": [
        "from keras.layers import Dense\n",
        "model = tf.keras.Sequential()\n",
        "#model.add(tf.keras.layers.Dense(units=5, activation='sigmoid', input_shape=(784, )))\n",
        "#model.add(tf.keras.layers.Dense(units=10, activation='sigmoid', input_shape=(784, )))\n",
        "#model.add(tf.keras.layers.Dense(units=15, activation='sigmoid', input_shape=(784, )))\n",
        "#model.add(tf.keras.layers.Dense(units=20, activation='sigmoid', input_shape=(784, )))\n",
        "model.add(tf.keras.layers.Dense(units=25, activation='sigmoid', input_shape=(784, )))\n",
        "model.add(tf.keras.layers.Dense(units=10, activation='softmax'))\n",
        "\n",
        "model.compile(optimizer='adam', loss='sparse_categorical_crossentropy', metrics=['sparse_categorical_accuracy'])\n",
        "\n",
        "model.fit(a_train, b_train, epochs=2)\n",
        "\n",
        "F1_score = model.evaluate(a_test, b_test)\n",
        "\n",
        "print(\"F1_score: {}\".format(F1_score))\n",
        "\n",
        "\n",
        "\n"
      ],
      "execution_count": null,
      "outputs": [
        {
          "output_type": "stream",
          "name": "stdout",
          "text": [
            "Epoch 1/2\n",
            "1875/1875 [==============================] - 5s 2ms/step - loss: 1.1795 - sparse_categorical_accuracy: 0.6093\n",
            "Epoch 2/2\n",
            "1875/1875 [==============================] - 4s 2ms/step - loss: 0.8614 - sparse_categorical_accuracy: 0.6860\n",
            "313/313 [==============================] - 1s 1ms/step - loss: 0.9129 - sparse_categorical_accuracy: 0.6559\n",
            "F1_score: [0.9129117131233215, 0.6559000015258789]\n"
          ]
        }
      ]
    },
    {
      "cell_type": "code",
      "metadata": {
        "colab": {
          "base_uri": "https://localhost:8080/"
        },
        "id": "ep9sCM9EWA6e",
        "outputId": "61b8afb8-bc1e-404e-e33a-d72022756381"
      },
      "source": [
        "from keras.layers import Dense\n",
        "model = tf.keras.Sequential()\n",
        "model.add(tf.keras.layers.Dense(units=500, activation='relu', input_shape=(784, )))\n",
        "model.add(tf.keras.layers.Dense(units=10, activation='softmax'))\n",
        "\n",
        "model.compile(optimizer='adam', loss='sparse_categorical_crossentropy', metrics=['sparse_categorical_accuracy'])\n",
        "\n",
        "model.fit(a_train, b_train, epochs=2)\n",
        "\n",
        "F1_score = model.evaluate(a_test, b_test)\n",
        "\n",
        "print(\"F1_score: {}\".format(F1_score))\n",
        "\n"
      ],
      "execution_count": null,
      "outputs": [
        {
          "output_type": "stream",
          "name": "stdout",
          "text": [
            "Epoch 1/2\n",
            "1875/1875 [==============================] - 10s 5ms/step - loss: 4.0622 - sparse_categorical_accuracy: 0.7684\n",
            "Epoch 2/2\n",
            "1875/1875 [==============================] - 9s 5ms/step - loss: 0.5509 - sparse_categorical_accuracy: 0.8171\n",
            "313/313 [==============================] - 1s 3ms/step - loss: 0.5952 - sparse_categorical_accuracy: 0.8117\n",
            "F1_score: [0.5952184796333313, 0.8116999864578247]\n"
          ]
        }
      ]
    },
    {
      "cell_type": "code",
      "metadata": {
        "colab": {
          "base_uri": "https://localhost:8080/"
        },
        "id": "h6BEfNODWL6-",
        "outputId": "f348333f-8d2f-41fe-a17d-d087acde5856"
      },
      "source": [
        "from keras.layers import Dense\n",
        "model = tf.keras.Sequential()\n",
        "model.add(tf.keras.layers.Dense(units=500, activation='tanh', input_shape=(784, )))\n",
        "model.add(tf.keras.layers.Dense(units=10, activation='softmax'))\n",
        "\n",
        "model.compile(optimizer='adam', loss='sparse_categorical_crossentropy', metrics=['sparse_categorical_accuracy'])\n",
        "\n",
        "model.fit(a_train, b_train, epochs=2)\n",
        "\n",
        "F1_score = model.evaluate(a_test, b_test)\n",
        "\n",
        "print(\"F1_score: {}\".format(F1_score))\n",
        "\n"
      ],
      "execution_count": null,
      "outputs": [
        {
          "output_type": "stream",
          "name": "stdout",
          "text": [
            "Epoch 1/2\n",
            "1875/1875 [==============================] - 9s 5ms/step - loss: 0.8965 - sparse_categorical_accuracy: 0.6740\n",
            "Epoch 2/2\n",
            "1875/1875 [==============================] - 9s 5ms/step - loss: 0.8379 - sparse_categorical_accuracy: 0.6793\n",
            "313/313 [==============================] - 1s 3ms/step - loss: 0.8154 - sparse_categorical_accuracy: 0.6689\n",
            "F1_score: [0.8153538107872009, 0.6689000129699707]\n"
          ]
        }
      ]
    },
    {
      "cell_type": "code",
      "metadata": {
        "colab": {
          "base_uri": "https://localhost:8080/"
        },
        "id": "NQ9WRzQoWQ_S",
        "outputId": "2431b635-2a1c-4b04-c472-81137cca4e62"
      },
      "source": [
        "from keras.layers import Dense\n",
        "model = tf.keras.Sequential()\n",
        "model.add(tf.keras.layers.Dense(units=500, activation='softmax', input_shape=(784, )))\n",
        "model.add(tf.keras.layers.Dense(units=10, activation='softmax'))\n",
        "\n",
        "model.compile(optimizer='adam', loss='sparse_categorical_crossentropy', metrics=['sparse_categorical_accuracy'])\n",
        "\n",
        "model.fit(a_train, b_train, epochs=2)\n",
        "\n",
        "F1_score = model.evaluate(a_test, b_test)\n",
        "\n",
        "print(\"F1_score: {}\".format(F1_score))\n",
        "\n"
      ],
      "execution_count": null,
      "outputs": [
        {
          "output_type": "stream",
          "name": "stdout",
          "text": [
            "Epoch 1/2\n",
            "1875/1875 [==============================] - 10s 5ms/step - loss: 1.9094 - sparse_categorical_accuracy: 0.3198\n",
            "Epoch 2/2\n",
            "1875/1875 [==============================] - 9s 5ms/step - loss: 1.6744 - sparse_categorical_accuracy: 0.3234\n",
            "313/313 [==============================] - 1s 3ms/step - loss: 1.5105 - sparse_categorical_accuracy: 0.3734\n",
            "F1_score: [1.510454535484314, 0.3734000027179718]\n"
          ]
        }
      ]
    },
    {
      "cell_type": "code",
      "metadata": {
        "colab": {
          "base_uri": "https://localhost:8080/"
        },
        "id": "Iu6rBO38Xt-6",
        "outputId": "363878a8-f6bf-4ea3-a5e9-a59a9645e9eb"
      },
      "source": [
        "from keras.layers import Dense\n",
        "model = tf.keras.Sequential()\n",
        "model.add(tf.keras.layers.Dense(units=5, activation='softmax', input_shape=(784, )))\n",
        "model.add(tf.keras.layers.Dense(units=2, activation='tanh'))\n",
        "model.add(tf.keras.layers.Dense(units=20, activation='relu'))\n",
        "model.add(tf.keras.layers.Dense(units=80, activation='relu'))\n",
        "model.add(tf.keras.layers.Dense(units=22, activation='relu'))\n",
        "model.add(tf.keras.layers.Dense(units=10, activation='softmax'))\n",
        "\n",
        "model.compile(optimizer='adam', loss='sparse_categorical_crossentropy', metrics=['sparse_categorical_accuracy'])\n",
        "\n",
        "model.fit(a_train, b_train, epochs=2)\n",
        "\n",
        "F1_score = model.evaluate(a_test, b_test)\n",
        "\n",
        "print(\"F1_score: {}\".format(F1_score))\n",
        "\n"
      ],
      "execution_count": null,
      "outputs": [
        {
          "output_type": "stream",
          "name": "stdout",
          "text": [
            "Epoch 1/2\n",
            "1875/1875 [==============================] - 5s 2ms/step - loss: 1.8103 - sparse_categorical_accuracy: 0.1985\n",
            "Epoch 2/2\n",
            "1875/1875 [==============================] - 4s 2ms/step - loss: 1.7320 - sparse_categorical_accuracy: 0.1976\n",
            "313/313 [==============================] - 1s 2ms/step - loss: 1.7074 - sparse_categorical_accuracy: 0.1992\n",
            "F1_score: [1.7073992490768433, 0.19920000433921814]\n"
          ]
        }
      ]
    }
  ]
}